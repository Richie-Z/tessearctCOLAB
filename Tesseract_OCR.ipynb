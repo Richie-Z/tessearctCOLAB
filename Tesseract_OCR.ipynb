{
  "nbformat": 4,
  "nbformat_minor": 0,
  "metadata": {
    "colab": {
      "name": "Tesseract-OCR",
      "provenance": [],
      "collapsed_sections": [
        "aXnbYXpRz7Jj",
        "nLj7yc41SiW5",
        "PqVIrLNUS6cp",
        "bOpcdSO2L_cq",
        "usXFgpyoTVCP"
      ]
    },
    "kernelspec": {
      "name": "python3",
      "display_name": "Python 3"
    }
  },
  "cells": [
    {
      "cell_type": "markdown",
      "metadata": {
        "id": "aXnbYXpRz7Jj",
        "colab_type": "text"
      },
      "source": [
        "# `Tesseract-OCR`\n",
        "\n",
        "\n",
        "---\n",
        "\n",
        "\n",
        "*By. Richie-Z*"
      ]
    },
    {
      "cell_type": "code",
      "metadata": {
        "id": "XTXoiL5bLuOM",
        "colab_type": "code",
        "colab": {}
      },
      "source": [
        "from google.colab import drive \n",
        "drive.mount('/content/drive')"
      ],
      "execution_count": null,
      "outputs": []
    },
    {
      "cell_type": "code",
      "metadata": {
        "id": "fWVYPH_LnytR",
        "colab_type": "code",
        "colab": {}
      },
      "source": [
        "from google.colab import files\n",
        "files.download(\"./image_frames/frame473.png\")"
      ],
      "execution_count": null,
      "outputs": []
    },
    {
      "cell_type": "code",
      "metadata": {
        "id": "QyL38M3P2PDA",
        "colab_type": "code",
        "colab": {}
      },
      "source": [
        "import requests  \n",
        "file_url = \"https://raw.githubusercontent.com/tesseract-ocr/tessdata/4.00/ind.traineddata\"\n",
        "    \n",
        "r = requests.get(file_url, stream = True)  \n",
        "  \n",
        "with open(\"/usr/share/tesseract-ocr/4.00/tessdata/ind.traineddata\", \"wb\") as file:  \n",
        "    for block in r.iter_content(chunk_size = 1024): \n",
        "         if block:  \n",
        "             file.write(block)  "
      ],
      "execution_count": 4,
      "outputs": []
    },
    {
      "cell_type": "code",
      "metadata": {
        "id": "NGW7LjHSBWGV",
        "colab_type": "code",
        "colab": {}
      },
      "source": [
        "url = \"https://i.stack.imgur.com/2lAK2.png\"\n",
        "r=requests.get(url,stream=True)\n",
        "with open (\"2.png\",\"wb\")as file:\n",
        "  for block in r.iter_content(chunk_size = 1024):\n",
        "    if block:\n",
        "      file.write(block)"
      ],
      "execution_count": null,
      "outputs": []
    },
    {
      "cell_type": "markdown",
      "metadata": {
        "id": "nLj7yc41SiW5",
        "colab_type": "text"
      },
      "source": [
        "# Library and Dependency"
      ]
    },
    {
      "cell_type": "code",
      "metadata": {
        "id": "LDPBB8ltz_vB",
        "colab_type": "code",
        "cellView": "form",
        "colab": {
          "base_uri": "https://localhost:8080/",
          "height": 33
        },
        "outputId": "609aa824-9083-426d-c34c-44b2e0f1b2ff"
      },
      "source": [
        "#@title Step 1\n",
        "! apt install tesseract-ocr libtesseract-dev libmagickwand-dev\n",
        "from IPython.display import HTML, clear_output\n",
        "clear_output()\n",
        "print(\"STEP 1 Done\")"
      ],
      "execution_count": 1,
      "outputs": [
        {
          "output_type": "stream",
          "text": [
            "STEP 1 Done\n"
          ],
          "name": "stdout"
        }
      ]
    },
    {
      "cell_type": "code",
      "metadata": {
        "id": "-uO1H767AEbw",
        "colab_type": "code",
        "cellView": "form",
        "colab": {
          "base_uri": "https://localhost:8080/",
          "height": 33
        },
        "outputId": "51952621-ed02-441c-a039-18990e466b3e"
      },
      "source": [
        "#@title Step 2\n",
        "! pip install pytesseract wand opencv-python\n",
        "clear_output()\n",
        "print(\"STEP 2 Done\")"
      ],
      "execution_count": 2,
      "outputs": [
        {
          "output_type": "stream",
          "text": [
            "STEP 2 Done\n"
          ],
          "name": "stdout"
        }
      ]
    },
    {
      "cell_type": "code",
      "metadata": {
        "id": "tSI78WorF4av",
        "colab_type": "code",
        "cellView": "form",
        "colab": {
          "base_uri": "https://localhost:8080/",
          "height": 33
        },
        "outputId": "a4359ffb-f2e2-4d35-d774-b14b38431da8"
      },
      "source": [
        "#@title Step 3\n",
        "from PIL import Image\n",
        "import pytesseract\n",
        "from wand.image import Image as Img\n",
        "import nltk\n",
        "from nltk.tokenize import word_tokenize\n",
        "from nltk.tag import pos_tag\n",
        "import numpy as np\n",
        "import os\n",
        "import cv2\n",
        "from datetime import timedelta\n",
        "from matplotlib import pyplot as plt\n",
        "import shutil\n",
        "import datetime\n",
        "import codecs\n",
        "import sys\n",
        "import json\n",
        "import progressbar\n",
        "from tqdm.auto import tqdm\n",
        "\n",
        "clear_output()\n",
        "print(\"STEP 3 Done\")"
      ],
      "execution_count": 3,
      "outputs": [
        {
          "output_type": "stream",
          "text": [
            "STEP 3 Done\n"
          ],
          "name": "stdout"
        }
      ]
    },
    {
      "cell_type": "markdown",
      "metadata": {
        "id": "PqVIrLNUS6cp",
        "colab_type": "text"
      },
      "source": [
        "# Image to String"
      ]
    },
    {
      "cell_type": "code",
      "metadata": {
        "id": "3B9b2fSNM85-",
        "colab_type": "code",
        "colab": {
          "base_uri": "https://localhost:8080/",
          "height": 50
        },
        "outputId": "08a9e279-4a88-4f29-ae96-2ed683d8fe44"
      },
      "source": [
        "try:\n",
        "  img=Image.open('hasil.png')\n",
        "  text=pytesseract.image_to_string(img,lang=\"ind\")\n",
        "  characters_to_remove = \"!()@—*“>+-/,'|£#%$&^_~\"\n",
        "  new_string = text\n",
        "  for character in characters_to_remove:\n",
        "    new_string = new_string.replace(character, \"\")\n",
        "  print(new_string)\n",
        "except IOError as e:\n",
        "    print(\"Error (%s).\" % e)"
      ],
      "execution_count": null,
      "outputs": [
        {
          "output_type": "stream",
          "text": [
            "untuk mengenyam pendidikan\n",
            "serta praktik dalam pertanian.\n"
          ],
          "name": "stdout"
        }
      ]
    },
    {
      "cell_type": "code",
      "metadata": {
        "id": "mogrbuj-AiY-",
        "colab_type": "code",
        "colab": {}
      },
      "source": [
        "img=Image.open('frame.png')\n",
        "custom_config = r'-l ind --oem 3 --psm 6' \n",
        "text = pytesseract.image_to_string(img,config=custom_config)\n",
        "print(text)"
      ],
      "execution_count": null,
      "outputs": []
    },
    {
      "cell_type": "markdown",
      "metadata": {
        "id": "bOpcdSO2L_cq",
        "colab_type": "text"
      },
      "source": [
        "# Video Subtitle to String"
      ]
    },
    {
      "cell_type": "code",
      "metadata": {
        "id": "ZFE5Vk6eMDaJ",
        "colab_type": "code",
        "colab": {
          "base_uri": "https://localhost:8080/",
          "height": 33
        },
        "cellView": "form",
        "outputId": "842248d9-0ea6-4447-9e9e-a27b105f0daf"
      },
      "source": [
        "#@title <b>Estrack Frame\n",
        "if not os.path.exists('image_frames'):\n",
        "    os.makedirs('image_frames')\n",
        "path = '/content/drive/My Drive/Otakudesu_GinSaji--01_720p_BD_cut_001.mp4' #@param {type:\"string\"}\n",
        "video = cv2.VideoCapture(path)\n",
        "index = 0\n",
        "while video.isOpened():\n",
        "    ret,frame = video.read()\n",
        "    if not ret:\n",
        "        break\n",
        "    name = './image_frames/frame' + str(index) + '.png'\n",
        "    print ('Extracting frames...' + name)\n",
        "    cv2.imwrite(name, frame[550:800, 50:1200])\n",
        "    index = index + 1\n",
        "    if cv2.waitKey(10) & 0xFF == ord('q'):\n",
        "        break\n",
        "video.release()\n",
        "cv2.destroyAllWindows()\n",
        "  \n",
        "clear_output()\n",
        "file_count = sum(len(files) for _, _, files in os.walk(r'./image_frames'))\n",
        "print(\"Total Frame : \"+str(file_count))"
      ],
      "execution_count": 8,
      "outputs": [
        {
          "output_type": "stream",
          "text": [
            "Total Frame : 2907\n"
          ],
          "name": "stdout"
        }
      ]
    },
    {
      "cell_type": "code",
      "metadata": {
        "id": "_xIR5B9BhJDn",
        "colab_type": "code",
        "colab": {},
        "cellView": "form"
      },
      "source": [
        "#@title <b>Clean TXT</b> (Slow Method)\n",
        "#@markdown \n",
        "#@markdown <p> for better result use this\n",
        "if not os.path.exists('cleantxt'):\n",
        "    os.makedirs('cleantxt')\n",
        "for a in tqdm(range(file_count)):\n",
        "  img= cv2.imread(\"./image_frames/frame\"+str(a)+\".png\")\n",
        "  mask = np.zeros(img.shape[:2],np.uint8)\n",
        "  bgdModel = np.zeros((1,65), np.float64)\n",
        "  fgdModel = np.zeros((1,65), np.float64)\n",
        "  rect = (330,40,600, 100)\n",
        "  cv2.grabCut(img,mask,rect,bgdModel,fgdModel, 5 , cv2.GC_INIT_WITH_RECT)\n",
        "  mask2 = np.where((mask==2)| (mask==0), 0,1).astype('uint8')\n",
        "  img = img*mask2[:,:,np.newaxis]\n",
        "  cv2.imwrite(\"./cleantxt/cleantxt\"+str(a)+\".png\",img)\n",
        "  print(\" \",end='\\r')\n",
        "\n",
        "clear_output()\n",
        "print(\"Clean TXT done\")"
      ],
      "execution_count": null,
      "outputs": []
    },
    {
      "cell_type": "code",
      "metadata": {
        "id": "aKY3rkMW0sfF",
        "colab_type": "code",
        "colab": {},
        "cellView": "form"
      },
      "source": [
        "#@title <b>OCR\n",
        "fps = 24.0\n",
        "kosong = \"\"\n",
        "def get_srt_timestamp(frame_index: int, fps: float):\n",
        "\ttd = datetime.timedelta(seconds=frame_index / fps)\n",
        "\tms = td.microseconds // 1000\n",
        "\tm, s = divmod(td.seconds, 60)\n",
        "\th, m = divmod(m, 60)\n",
        "\treturn '{:02d}:{:02d}:{:02d},{:03d}'.format(h, m, s, ms)\n",
        " \n",
        "for i in range(file_count):\n",
        "\tasu= get_srt_timestamp(i,fps)\n",
        "\tmmq = Image.open(\"./cleantxt/cleantxt\"+ str(i)+\".png\")\n",
        "\tcustom_config = r'-l ind' #@param {type:\"string\"}\n",
        "\ttext = pytesseract.image_to_string(mmq,config=custom_config)\n",
        "##remove tesseract error\n",
        "\tcharacters_to_remove = \"!()@—*“>+-/,'|£#%$&^_~\"\n",
        "\tnew_string = text\n",
        "\tfor character in characters_to_remove:\n",
        "\t\tnew_string = new_string.replace(character, \"\")\n",
        "\tif text != kosong :\n",
        "\t\tprint(\"frame\"+str(i)+\" \"+str(asu)+ \":\" + new_string) "
      ],
      "execution_count": null,
      "outputs": []
    },
    {
      "cell_type": "markdown",
      "metadata": {
        "id": "usXFgpyoTVCP",
        "colab_type": "text"
      },
      "source": [
        "# Check FPS and Posistioning CROP"
      ]
    },
    {
      "cell_type": "code",
      "metadata": {
        "id": "BiUFOPp4d0Z-",
        "colab_type": "code",
        "colab": {
          "base_uri": "https://localhost:8080/",
          "height": 116
        },
        "outputId": "616a9087-d159-4c98-a72f-07f5da84c275"
      },
      "source": [
        "import cv2 as c\n",
        "import matplotlib.pyplot as plt\n",
        "\n",
        "img = c.imread(\"ori.png\")\n",
        "crop = img[40:140, 330:850]\n",
        "plt.imshow(crop)\n",
        "plt.show()"
      ],
      "execution_count": null,
      "outputs": [
        {
          "output_type": "display_data",
          "data": {
            "image/png": "[encoded data removed]",
            "text/plain": [
              "<Figure size 432x288 with 1 Axes>"
            ]
          },
          "metadata": {
            "tags": [],
            "needs_background": "light"
          }
        }
      ]
    },
    {
      "cell_type": "code",
      "metadata": {
        "id": "AQtCSAebVfpe",
        "colab_type": "code",
        "colab": {
          "base_uri": "https://localhost:8080/",
          "height": 117
        },
        "outputId": "a731edf1-7a2a-4959-ff75-bf4ba13afb3b"
      },
      "source": [
        "img= cv2.imread(\"ori.png\")\n",
        "mask = np.zeros(img.shape[:2],np.uint8)\n",
        "\n",
        "bgdModel = np.zeros((1,65), np.float64)\n",
        "fgdModel = np.zeros((1,65), np.float64)\n",
        "rect = (330,40,600, 100)\n",
        "\n",
        "cv2.grabCut(img,mask,rect,bgdModel,fgdModel, 5 , cv2.GC_INIT_WITH_RECT)\n",
        "mask2 = np.where((mask==2)| (mask==0), 0,1).astype('uint8')\n",
        "img = img*mask2[:,:,np.newaxis]\n",
        "\n",
        "plt.imshow(img)\n",
        "plt.show()\n",
        "\n",
        "cv2.imwrite(\"hasil.png\",img)"
      ],
      "execution_count": null,
      "outputs": [
        {
          "output_type": "display_data",
          "data": {
            "image/png": "[encoded data removed]",
            "text/plain": [
              "<Figure size 432x288 with 1 Axes>"
            ]
          },
          "metadata": {
            "tags": [],
            "needs_background": "light"
          }
        },
        {
          "output_type": "execute_result",
          "data": {
            "text/plain": [
              "True"
            ]
          },
          "metadata": {
            "tags": []
          },
          "execution_count": 9
        }
      ]
    },
    {
      "cell_type": "code",
      "metadata": {
        "id": "zFDRBmhQi5ao",
        "colab_type": "code",
        "colab": {
          "base_uri": "https://localhost:8080/",
          "height": 34
        },
        "outputId": "9ccfc747-cc67-4799-ce21-bb5dd1a64e38"
      },
      "source": [
        "from datetime import timedelta\n",
        "\n",
        "FPS = 24.0\n",
        "frame_count = 2907\n",
        "td = timedelta(seconds=(frame_count / FPS))\n",
        "print(td)"
      ],
      "execution_count": null,
      "outputs": [
        {
          "output_type": "stream",
          "text": [
            "0:02:01.125000\n"
          ],
          "name": "stdout"
        }
      ]
    }
  ]
}